{
  "nbformat": 4,
  "nbformat_minor": 0,
  "metadata": {
    "colab": {
      "provenance": [],
      "authorship_tag": "ABX9TyMJy+XnKnrDAO0DR6gSRROz",
      "include_colab_link": true
    },
    "kernelspec": {
      "name": "python3",
      "display_name": "Python 3"
    },
    "language_info": {
      "name": "python"
    }
  },
  "cells": [
    {
      "cell_type": "markdown",
      "metadata": {
        "id": "view-in-github",
        "colab_type": "text"
      },
      "source": [
        "<a href=\"https://colab.research.google.com/github/yunzivv/java_Syntax_03/blob/master/PCCE_%EC%97%B0%EC%8A%B5.ipynb\" target=\"_parent\"><img src=\"https://colab.research.google.com/assets/colab-badge.svg\" alt=\"Open In Colab\"/></a>"
      ]
    },
    {
      "cell_type": "code",
      "execution_count": null,
      "metadata": {
        "colab": {
          "base_uri": "https://localhost:8080/"
        },
        "id": "U_3YaKZi3zLB",
        "outputId": "1fd85b2c-9b79-4de1-9882-636c86b61065"
      },
      "outputs": [
        {
          "output_type": "stream",
          "name": "stdout",
          "text": [
            "True\n"
          ]
        }
      ],
      "source": [
        "def solution(X, Y):\n",
        "    answer = ''\n",
        "\n",
        "    for i in range(9, -1, -1):\n",
        "        answer += str(i) * min(X.count(str(i)), Y.count(str(i)))\n",
        "\n",
        "    if answer == '':\n",
        "        answer = '-1'\n",
        "    elif len(answer) == answer.count('0'):\n",
        "        answer = '0'\n",
        "\n",
        "    return answer"
      ]
    },
    {
      "cell_type": "code",
      "source": [
        "def solution(x):\n",
        "    answer = 0\n",
        "    a1000 = int(x / 1000)\n",
        "    a100 = int((x - a1000*1000) / 100)\n",
        "    a10 = int((x - a1000*1000 - a100*100) / 10)\n",
        "    a1 = int((x - a1000*1000 - a100*100 - a10*10) % 10)\n",
        "    a = a1 + a10 + a100 + a1000\n",
        "\n",
        "    if x % a == 0:\n",
        "        answer = True\n",
        "    else :\n",
        "        answer = False\n",
        "\n",
        "    return answer"
      ],
      "metadata": {
        "id": "PnAGxLztbfMz"
      },
      "execution_count": null,
      "outputs": []
    }
  ]
}